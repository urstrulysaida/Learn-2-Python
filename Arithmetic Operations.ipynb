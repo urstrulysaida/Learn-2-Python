{
  "nbformat": 4,
  "nbformat_minor": 0,
  "metadata": {
    "colab": {
      "private_outputs": true,
      "provenance": [],
      "toc_visible": true,
      "authorship_tag": "ABX9TyNO/C9hVKVZl04i6inpFkno",
      "include_colab_link": true
    },
    "kernelspec": {
      "name": "python3",
      "display_name": "Python 3"
    },
    "language_info": {
      "name": "python"
    }
  },
  "cells": [
    {
      "cell_type": "markdown",
      "metadata": {
        "id": "view-in-github",
        "colab_type": "text"
      },
      "source": [
        "<a href=\"https://colab.research.google.com/github/urstrulysaida/Learn-2-Python/blob/main/Arithmetic%20Operations.ipynb\" target=\"_parent\"><img src=\"https://colab.research.google.com/assets/colab-badge.svg\" alt=\"Open In Colab\"/></a>"
      ]
    },
    {
      "cell_type": "markdown",
      "source": [
        "# Arithmetic Operations\n",
        "```\n",
        " Addition of two numbers\n",
        "```"
      ],
      "metadata": {
        "id": "8yI1kXvL0QKT"
      }
    },
    {
      "cell_type": "code",
      "source": [
        "# add of two numbers\n",
        "a=50\n",
        "b=30\n",
        "add=a+b\n",
        "print(add)"
      ],
      "metadata": {
        "id": "d6awwn2f1ArP"
      },
      "execution_count": null,
      "outputs": []
    },
    {
      "cell_type": "markdown",
      "source": [
        "\n",
        "\n",
        "```\n",
        " Subtraction of two numbers\n",
        "```"
      ],
      "metadata": {
        "id": "3ZDxiGsjXRbG"
      }
    },
    {
      "cell_type": "code",
      "source": [
        "# Subtraction of two numbers\n",
        "a=50\n",
        "b=30\n",
        "sub=a-b\n",
        "print(sub)\n",
        "c=a-b-15\n",
        "print(c)"
      ],
      "metadata": {
        "id": "kDIQxvm7XXbf"
      },
      "execution_count": null,
      "outputs": []
    },
    {
      "cell_type": "markdown",
      "source": [
        "\n",
        "\n",
        "```\n",
        "Multiplication: Multiplies two numbers\n",
        "```\n",
        "\n"
      ],
      "metadata": {
        "id": "ksvaXzM5YVlS"
      }
    },
    {
      "cell_type": "code",
      "source": [
        "# Multiplication: Multiplies two numbers\n",
        "a=10\n",
        "b=20\n",
        "mult=a*b\n",
        "print(mult)\n",
        "c=a*b\n",
        "print(c)"
      ],
      "metadata": {
        "id": "dp6OPcLEYZn5"
      },
      "execution_count": null,
      "outputs": []
    }
  ]
}