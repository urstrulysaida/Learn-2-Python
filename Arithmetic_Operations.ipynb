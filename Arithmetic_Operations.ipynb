{
  "nbformat": 4,
  "nbformat_minor": 0,
  "metadata": {
    "colab": {
      "private_outputs": true,
      "provenance": [],
      "toc_visible": true,
      "authorship_tag": "ABX9TyMSeAf4HQZIuFLGZ/CpbB9U",
      "include_colab_link": true
    },
    "kernelspec": {
      "name": "python3",
      "display_name": "Python 3"
    },
    "language_info": {
      "name": "python"
    }
  },
  "cells": [
    {
      "cell_type": "markdown",
      "metadata": {
        "id": "view-in-github",
        "colab_type": "text"
      },
      "source": [
        "<a href=\"https://colab.research.google.com/github/urstrulysaida/Learn-2-Python/blob/main/Arithmetic_Operations.ipynb\" target=\"_parent\"><img src=\"https://colab.research.google.com/assets/colab-badge.svg\" alt=\"Open In Colab\"/></a>"
      ]
    },
    {
      "cell_type": "markdown",
      "source": [
        "# Arithmetic Operations\n",
        "```\n",
        " Addition of two numbers\n",
        "```"
      ],
      "metadata": {
        "id": "8yI1kXvL0QKT"
      }
    },
    {
      "cell_type": "code",
      "source": [
        "# add of two numbers\n",
        "a=50\n",
        "b=30\n",
        "add=a+b\n",
        "print(\"result is\",add)"
      ],
      "metadata": {
        "id": "d6awwn2f1ArP"
      },
      "execution_count": null,
      "outputs": []
    },
    {
      "cell_type": "markdown",
      "source": [
        "\n",
        "\n",
        "```\n",
        " Subtraction of two numbers\n",
        "```"
      ],
      "metadata": {
        "id": "3ZDxiGsjXRbG"
      }
    },
    {
      "cell_type": "code",
      "source": [
        "# Subtraction of two numbers\n",
        "a=50\n",
        "b=30\n",
        "sub=a-b\n",
        "print(sub)\n",
        "c=a-b-15\n",
        "print(\"result is\",sub)"
      ],
      "metadata": {
        "id": "kDIQxvm7XXbf"
      },
      "execution_count": null,
      "outputs": []
    },
    {
      "cell_type": "markdown",
      "source": [
        "\n",
        "\n",
        "```\n",
        "Multiplies two numbers\n",
        "```\n",
        "\n"
      ],
      "metadata": {
        "id": "ksvaXzM5YVlS"
      }
    },
    {
      "cell_type": "code",
      "source": [
        "# Multiplication: Multiplies two numbers\n",
        "a=10\n",
        "b=20\n",
        "mult=a*b\n",
        "#print(mult)\n",
        "#c=a*b\n",
        "print(\"result is:\",mult)"
      ],
      "metadata": {
        "id": "dp6OPcLEYZn5"
      },
      "execution_count": null,
      "outputs": []
    },
    {
      "cell_type": "markdown",
      "source": [
        "\n",
        "\n",
        "```\n",
        "Divides two numbers\n",
        "```\n",
        "\n"
      ],
      "metadata": {
        "id": "5vBxCHAAba8b"
      }
    },
    {
      "cell_type": "code",
      "source": [
        "# This program divides two numbers and prints the result\n",
        "a=50\n",
        "b=5\n",
        "div=a/b\n",
        "#print(div)\n",
        "#c=a/b\n",
        "print(\"result is:\",div)"
      ],
      "metadata": {
        "id": "L9XWSJanbfcd"
      },
      "execution_count": null,
      "outputs": []
    },
    {
      "cell_type": "markdown",
      "source": [
        "\n",
        "\n",
        "```\n",
        "Logical and operator\n",
        "```\n",
        "\n"
      ],
      "metadata": {
        "id": "_eq1-kpjoR0p"
      }
    },
    {
      "cell_type": "code",
      "source": [
        "# Logical AND operator (and)\n",
        "x = 10\n",
        "y = 5\n",
        "print(x > 5 and y < 10)   # True (both are True)\n",
        "print(x > 5 and y > 10)   # False (second is False)"
      ],
      "metadata": {
        "id": "9gMWxu0foFuS"
      },
      "execution_count": null,
      "outputs": []
    },
    {
      "cell_type": "markdown",
      "source": [
        "\n",
        "\n",
        "```\n",
        "Equality\n",
        "```\n",
        "\n"
      ],
      "metadata": {
        "id": "uOfHGdmOpd17"
      }
    },
    {
      "cell_type": "code",
      "source": [
        "# This program checks the equality of two variables\n",
        "a=60\n",
        "b=60.0\n",
        "c=90\n",
        "eq=a==b\n",
        "print(eq)"
      ],
      "metadata": {
        "id": "YhwBwBA9peXF"
      },
      "execution_count": null,
      "outputs": []
    },
    {
      "cell_type": "markdown",
      "source": [
        "\n",
        "\n",
        "```\n",
        "Exponentiation\n",
        "```\n",
        "\n"
      ],
      "metadata": {
        "id": "tIlQ9HIWpyw4"
      }
    },
    {
      "cell_type": "code",
      "source": [
        "# This program calculates the exponentiation of two numbers\n",
        "a=6\n",
        "b=4\n",
        "c=3\n",
        "print(a**b)\n",
        "print(c**b)\n",
        "print(b**c)\n",
        "exp=a**b"
      ],
      "metadata": {
        "id": "Ibu65UutpzRp"
      },
      "execution_count": null,
      "outputs": []
    },
    {
      "cell_type": "markdown",
      "source": [
        "\n",
        "\n",
        "```\n",
        "Floor Division\n",
        "```\n",
        "\n"
      ],
      "metadata": {
        "id": "IiQXVDLVsto_"
      }
    },
    {
      "cell_type": "code",
      "source": [
        "# Floor Division\n",
        "a=50\n",
        "b=5\n",
        "c=100\n",
        "div=a//b+c//b\n",
        "print(div)"
      ],
      "metadata": {
        "id": "Ib9Ai4IksuLe"
      },
      "execution_count": null,
      "outputs": []
    },
    {
      "cell_type": "markdown",
      "source": [
        "\n",
        "\n",
        "```\n",
        "Greater than other\n",
        "```\n",
        "\n"
      ],
      "metadata": {
        "id": "6cMQlxPNs2pp"
      }
    },
    {
      "cell_type": "code",
      "source": [
        "# This program checks if one variable is greater than the other\n",
        "a=20\n",
        "b=30\n",
        "c=90\n",
        "gr=a>b\n",
        "print(gr)\n",
        "gr=b>a\n",
        "print(gr)\n",
        "gr=c>a\n",
        "print(gr)"
      ],
      "metadata": {
        "id": "E0TIvETQtw3e"
      },
      "execution_count": null,
      "outputs": []
    }
  ]
}